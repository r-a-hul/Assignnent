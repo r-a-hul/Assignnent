{
 "cells": [
  {
   "cell_type": "markdown",
   "id": "8f79b210-4acd-4bde-b489-23994411291d",
   "metadata": {},
   "source": [
    "# Theory Questions:"
   ]
  },
  {
   "cell_type": "markdown",
   "id": "0e164889-37f4-4f8f-966d-39767118ac8f",
   "metadata": {},
   "source": [
    "#### 1.  What is the difference between a function and a method in Python?\n",
    "Ans. A function is a block of reusable code that performs a specific task. It is defined using the def keyword      and can be called by its name. While a method is a function that is associated with an object. It is          defined within a class and operates on instances of that class.\n",
    "     Functions are defined using the 'def' keyword and can be called by its name. But Methods are defined          inside classes. They have a special first parameter, self  or cls , which refers to the instance "
   ]
  },
  {
   "cell_type": "code",
   "execution_count": null,
   "id": "b8796a86-c423-4ec2-969d-29755d3196cc",
   "metadata": {},
   "outputs": [],
   "source": [
    "#  method\n",
    "class Calculator:\n",
    "    def __init__(self):\n",
    "        pass\n",
    "\n",
    "    def add(self, a, b):  \n",
    "        return a + b\n",
    "\n",
    "calc = Calculator()  \n",
    "result = calc.add(2, 3)  \n",
    "print(result)  \n",
    "\n",
    " # function\n",
    "def add(a, b):\n",
    "    return a + b\n",
    "\n",
    "result = add(2, 3) \n",
    "print(result)  "
   ]
  },
  {
   "cell_type": "markdown",
   "id": "4135a36f-be52-4a85-abec-d223a7ac859d",
   "metadata": {},
   "source": [
    "#### 2.  Explain the concept of function arguments and parameters in Python.\n",
    "Ans. Parameters are the variables listed inside the parentheses in the function definition. They act as        placeholders for the values that will be passed to the function when it is called. While Arguments are the actual values passed to the function when it is called. These values are assigned to the corresponding parameters in the function definition."
   ]
  },
  {
   "cell_type": "code",
   "execution_count": null,
   "id": "08c0c9f4-6378-4b0a-8a13-287b0c47e187",
   "metadata": {},
   "outputs": [],
   "source": [
    "def add(a, b):   # a,b are parameters\n",
    "    return a + b\n",
    "\n",
    "result = add(2, 3)  # 2,3 are arguments\n",
    "print(result) "
   ]
  },
  {
   "cell_type": "markdown",
   "id": "37c59276-6363-4016-b6aa-0134f4e64832",
   "metadata": {},
   "source": [
    "#### 3. What are the different ways to define and call a function in Python?\n",
    "Ans. There are different ways of function defination and function calling.\n",
    "    Standard Function using 'def' keyword, \n",
    "     Functions with Default Parameters, \n",
    "     Functions with variable-Length Arguments, \n",
    "     Lambda Functions."
   ]
  },
  {
   "cell_type": "code",
   "execution_count": 30,
   "id": "345a69c0-41ac-457d-aac2-21030c1e2dd9",
   "metadata": {},
   "outputs": [
    {
     "name": "stdout",
     "output_type": "stream",
     "text": [
      "5\n",
      "7\n",
      "45\n",
      "8\n"
     ]
    }
   ],
   "source": [
    "# Standard Function using 'def' keyword.\n",
    "def add(a, b):   \n",
    "    return a + b\n",
    "result1 = add(2, 3)  \n",
    "print(result1)\n",
    "\n",
    "# Functions with Default Parameters.\n",
    "def add(a=2, b=5):   \n",
    "    return a + b\n",
    "result2 = add()  \n",
    "print(result2)\n",
    "\n",
    "# Functions with variable-Length Arguments\n",
    "def add(*a): \n",
    "    sum=0\n",
    "    for x in a:\n",
    "        sum+=x\n",
    "    return sum\n",
    "result3 = add(1,2,3,4,5,6,7,8,9)  \n",
    "print(result3)\n",
    "\n",
    "#Lambda Functions\n",
    "add = lambda a, b: a + b\n",
    "print(add(3, 5))"
   ]
  },
  {
   "cell_type": "markdown",
   "id": "57af427d-212a-4488-8643-94ce71ce8e32",
   "metadata": {},
   "source": [
    "#### 4. What is the purpose of the return statement in a Python function?\n",
    "Ans. The return statement is to exit a function and send a value back to the caller."
   ]
  },
  {
   "cell_type": "code",
   "execution_count": 31,
   "id": "6c34c8d4-99ad-4ce9-af9f-42856f53d15c",
   "metadata": {},
   "outputs": [
    {
     "name": "stdout",
     "output_type": "stream",
     "text": [
      "15\n"
     ]
    }
   ],
   "source": [
    "def add(*a): \n",
    "    sum=0\n",
    "    for x in a:\n",
    "        sum+=x\n",
    "        if(x==5):\n",
    "            return sum\n",
    "    return \"Done\"\n",
    "result3 = add(1,2,3,4,5,6,7,8,9)  \n",
    "print(result3)"
   ]
  },
  {
   "cell_type": "markdown",
   "id": "08e257f5-5e8d-41c0-80a3-057cfddc7c2a",
   "metadata": {},
   "source": [
    "#### 5. What are iterators in Python and how do they differ from iterables?\n",
    "Ans. An iterator is an object representing a stream of data that return the data one by one. But an iterable is any python object/sequential structure/data structure that is capable of returning its members one at a time. "
   ]
  },
  {
   "cell_type": "code",
   "execution_count": null,
   "id": "c4b10bc3-e291-448e-a01b-9a980499016d",
   "metadata": {},
   "outputs": [],
   "source": [
    "lis = [1, 2, 3] #list is an iterable object\n",
    "\n",
    "my_iterator = iter(my_list)  # Obtain an iterator from the iterable\n",
    "\n",
    "print(next(my_iterator))  # Output: 1\n",
    "print(next(my_iterator))  # Output: 2\n",
    "print(next(my_iterator))  # Output: 3"
   ]
  },
  {
   "cell_type": "markdown",
   "id": "080d50b3-0400-4e34-b0a8-0a0aa19eedb9",
   "metadata": {},
   "source": [
    "#### 6. Explain the concept of generators in Python and how they are defined.\n",
    "Ans. Generator functions in Python are a way to create iterators in a more concise and memory-efficient manner. These functions allow you to iterate over a potentially large sequence of data without loading the entire sequence into memory. The main difference between a regular function and a generator function is that the latter uses the yield Keyword to produce a series of values over time, one at a time, rather than returning a single result."
   ]
  },
  {
   "cell_type": "code",
   "execution_count": 33,
   "id": "3991242e-a665-437a-a005-380bf8ba3331",
   "metadata": {},
   "outputs": [
    {
     "name": "stdout",
     "output_type": "stream",
     "text": [
      "1 2 3 4 5 6 7 8 9 10 "
     ]
    }
   ],
   "source": [
    "def add():\n",
    "    a=0\n",
    "    while True:\n",
    "        a+=1\n",
    "        yield a\n",
    "sum=add()\n",
    "for x in range(10):\n",
    "    print(next(sum),end=\" \")"
   ]
  },
  {
   "cell_type": "markdown",
   "id": "ab9b9ce3-290f-4464-adb2-da0a1486a21b",
   "metadata": {},
   "source": [
    "#### 7. What are the advantages of using generators over regular functions?\n",
    "Ans. These are the advantages of using generator function:\n",
    "* Generator functions follow the concept of lazy evaluation. This means that the values are generated on-the-fly and only when requested. This is particularly useful for working with large datasets or Infinite sequences.\n",
    "* Generators are memory-efficient because they don't store all values in memory at once. Each value is generated and consumed one at a time, making them suitable for working with large datasets or when memory usage is a concern."
   ]
  },
  {
   "cell_type": "markdown",
   "id": "aeeb9267-43fc-41cd-9cf7-f68fb3c28e58",
   "metadata": {},
   "source": [
    "#### 8. What is a lambda function in Python and when is it typically used?\n",
    "Ans. A lambda function in Python is a concise way to create anonymous functions, also known as lambda expressions.\n",
    "Unlike regular functions defined using the def keyword, lambda functions are often used for short-term operations and are defined in a single line.\n",
    "The basic syntax of a lambda function is: `Lambda arguments: expression`. These functions are used in creating Anonymous functions."
   ]
  },
  {
   "cell_type": "code",
   "execution_count": 34,
   "id": "c4128fe1-c014-4028-84e9-1d7f4b290112",
   "metadata": {},
   "outputs": [
    {
     "name": "stdout",
     "output_type": "stream",
     "text": [
      "7\n"
     ]
    }
   ],
   "source": [
    "add = lambda x, y: x + y\n",
    "result = add(3, 4)\n",
    "print(result) "
   ]
  },
  {
   "cell_type": "markdown",
   "id": "875ed3d5-ed61-4947-bbef-82884706388e",
   "metadata": {},
   "source": [
    "#### 9. Explain the purpose and usage of the `map()` function in Python.\n",
    "Ans. The primary purpose of the map() function is to simplify the process of applying a transformation function to each element in an iterable, without the need to explicitly write a loop. This is particularly useful for operations like element-wise transformations, calculations, or applying any function to a collection of items.\n",
    "It is used for applying a function to each element of an iterable."
   ]
  },
  {
   "cell_type": "code",
   "execution_count": 35,
   "id": "682d63f4-4e4c-43a1-96c7-fd50055f145a",
   "metadata": {},
   "outputs": [
    {
     "name": "stdout",
     "output_type": "stream",
     "text": [
      "[1, 4, 9, 16, 25]\n"
     ]
    }
   ],
   "source": [
    "def square(x):\n",
    "    return x * x\n",
    "\n",
    "numbers = [1, 2, 3, 4, 5]\n",
    "squared_numbers = map(square, numbers)\n",
    "\n",
    "print(list(squared_numbers)) "
   ]
  },
  {
   "cell_type": "markdown",
   "id": "4c3c5b44-a524-4fb6-9654-6abd518bd0be",
   "metadata": {},
   "source": [
    "#### 10. What is the difference between `map()`, `reduce()`, and `filter()` functions in Python?\n",
    "Ans. \n",
    "* The map() function executes a specified function for each item in an iterable. The item is function as a parameter. it is a built-in function that applies a given function to all the items in an iterable (e.g., a list) and returns an iterable map object (an iterator) of the results.\n",
    "* Python's reduce() implements a mathematical technique commonly known as folding or reduction. It is a process where you reduce a list of items to a single value (cumulative value).\n",
    "* Python's filter() is a built-in function that allows you to process an iterable and extract those items that satisfy a given condition. This process is commonly known as a filtering operation.\n"
   ]
  },
  {
   "cell_type": "code",
   "execution_count": 36,
   "id": "c9efb3c3-1107-4585-b1ca-924dc5d176ed",
   "metadata": {},
   "outputs": [
    {
     "name": "stdout",
     "output_type": "stream",
     "text": [
      "[1, 4, 9, 16, 25]\n",
      "15\n",
      "['Bananas', 'Bread']\n"
     ]
    }
   ],
   "source": [
    "# map\n",
    "numbers = [1, 2, 3, 4, 5]\n",
    "squared_numbers = list(map(lambda x: x**2, numbers))\n",
    "print(squared_numbers)\n",
    "\n",
    "# reduce() \n",
    "from functools import reduce\n",
    "numbers = [1, 2, 3, 4, 5]\n",
    "total_sum = reduce(lambda x, y: x + y, numbers)\n",
    "print(total_sum)\n",
    "\n",
    "# filter()\n",
    "shopping_list = [\"Apples\", \"Bananas\", \"Milk\", \"Eggs\", \"Bread\"]\n",
    "def starts_with_b(item):\n",
    "    return item.startswith('B')\n",
    "filtered_basket = filter(starts_with_b, shopping_list)\n",
    "print(list(filtered_basket))"
   ]
  },
  {
   "cell_type": "code",
   "execution_count": null,
   "id": "ab046bab-0452-4c4a-8845-f033851062e0",
   "metadata": {},
   "outputs": [],
   "source": []
  },
  {
   "attachments": {
    "69eff287-7a6d-4438-80f7-72fd5f6c97fc.jpg": {
     "image/jpeg": "[encoded data removed]"
    }
   },
   "cell_type": "markdown",
   "id": "2c93e5d3-1a18-4f31-ba75-1fb6e8bfe90a",
   "metadata": {},
   "source": [
    "![QUESTION 11.jpg](attachment:69eff287-7a6d-4438-80f7-72fd5f6c97fc.jpg)"
   ]
  },
  {
   "cell_type": "markdown",
   "id": "1e8ba60e-ab2b-4682-96ac-db2a696c4fc3",
   "metadata": {},
   "source": [
    "# Practical Questions:"
   ]
  },
  {
   "cell_type": "raw",
   "id": "cc7df73b-5650-4c76-a31d-34647c6b12ae",
   "metadata": {
    "tags": []
   },
   "source": [
    "1. Write a Python function that takes a list of numbers as input and returns the sum of all even numbers in\n",
    "the list."
   ]
  },
  {
   "cell_type": "code",
   "execution_count": 3,
   "id": "61e234bf-5485-43a3-a160-636236864012",
   "metadata": {},
   "outputs": [
    {
     "name": "stdout",
     "output_type": "stream",
     "text": [
      "20\n"
     ]
    }
   ],
   "source": [
    "l=[1,2,3,4,5,6,7,8]\n",
    "sum=0\n",
    "for x in l:\n",
    "    if(x%2==0):\n",
    "        sum+=x\n",
    "print(sum)"
   ]
  },
  {
   "cell_type": "raw",
   "id": "9f92b746-9067-4356-b343-f310085d61d8",
   "metadata": {},
   "source": [
    "2. Create a Python function that accepts a string and returns the reverse of that string."
   ]
  },
  {
   "cell_type": "code",
   "execution_count": 4,
   "id": "48a5753b-fae0-46fc-8e61-729d54133a64",
   "metadata": {},
   "outputs": [
    {
     "data": {
      "text/plain": [
       "'LUHAR'"
      ]
     },
     "execution_count": 4,
     "metadata": {},
     "output_type": "execute_result"
    }
   ],
   "source": [
    "def revStr(str):\n",
    "    return str[::-1]\n",
    "\n",
    "revStr(\"RAHUL\")"
   ]
  },
  {
   "cell_type": "raw",
   "id": "7e70ba89-bcbe-4487-98cc-28a77aa7c8fa",
   "metadata": {},
   "source": [
    "3. Implement a Python function that takes a list of integers and returns a new list containing the squares of\n",
    "each number."
   ]
  },
  {
   "cell_type": "code",
   "execution_count": 14,
   "id": "3f7e5c68-2343-4131-ad3a-6363a4a9b2bc",
   "metadata": {},
   "outputs": [
    {
     "name": "stdout",
     "output_type": "stream",
     "text": [
      "[1, 4, 25, 100]\n"
     ]
    }
   ],
   "source": [
    "def listSq(l):\n",
    "    return list(map(lambda x: x *x, l))\n",
    "x=listSq([1,2,5,10])\n",
    "print(x)"
   ]
  },
  {
   "cell_type": "raw",
   "id": "119055aa-8392-43e4-b73a-8fc780d91cf4",
   "metadata": {},
   "source": [
    "4. Write a Python function that checks if a given number is prime or not from 1 to 200."
   ]
  },
  {
   "cell_type": "code",
   "execution_count": 19,
   "id": "d767e108-550c-447c-85c7-7de76594b9bd",
   "metadata": {},
   "outputs": [
    {
     "name": "stdout",
     "output_type": "stream",
     "text": [
      "29  is a prime number.\n"
     ]
    }
   ],
   "source": [
    "def checkPrime(n):\n",
    "    flag=True\n",
    "    for i in range(2,n):\n",
    "        if(n%i==0):\n",
    "            print(n,\" is not a prime number\")\n",
    "            flag=False\n",
    "            break;\n",
    "    if(flag):\n",
    "        print(n, \" is a prime number.\")\n",
    "    \n",
    "checkPrime(29)"
   ]
  },
  {
   "cell_type": "raw",
   "id": "bb14e301-2b94-42e5-a80e-8d3ec5796320",
   "metadata": {},
   "source": [
    "5. Create an iterator class in Python that generates the Fibonacci sequence up to a specified number of\n",
    "terms."
   ]
  },
  {
   "cell_type": "code",
   "execution_count": 3,
   "id": "38c43b1f-a292-43ed-a0fb-49e80b1f3e46",
   "metadata": {},
   "outputs": [
    {
     "name": "stdout",
     "output_type": "stream",
     "text": [
      "0 1 1 2 3 5 8 13 21 34 55 "
     ]
    }
   ],
   "source": [
    "def fibonacci_generator():\n",
    "    a,b=0,1\n",
    "    while(True):\n",
    "        yield a\n",
    "        a,b=b,a+b\n",
    "        \n",
    "fibo=fibonacci_generator()\n",
    "for i in range(11):\n",
    "    print(next(fibo),end=\" \")"
   ]
  },
  {
   "cell_type": "raw",
   "id": "166beca0-25ee-43b9-99e5-9322fd7fe2a9",
   "metadata": {},
   "source": [
    "6. Write a generator function in Python that yields the powers of 2 up to a given exponent."
   ]
  },
  {
   "cell_type": "code",
   "execution_count": 4,
   "id": "382e5830-5a55-437d-a34c-78c05f8791b3",
   "metadata": {},
   "outputs": [
    {
     "name": "stdout",
     "output_type": "stream",
     "text": [
      "1 2 4 8 16 32 64 128 256 512 "
     ]
    }
   ],
   "source": [
    "def pow_generator():\n",
    "    a=0\n",
    "    while True:\n",
    "        yield 2**a\n",
    "        a+=1\n",
    "power=pow_generator()\n",
    "for i in range(10):\n",
    "    print(next(power), end=\" \")"
   ]
  },
  {
   "cell_type": "raw",
   "id": "dfabf779-4d78-4cfe-9b82-9ee88c7b87c7",
   "metadata": {},
   "source": [
    "7. Implement a generator function that reads a file line by line and yields each line as a string."
   ]
  },
  {
   "cell_type": "code",
   "execution_count": null,
   "id": "880984d3-cfd5-4c60-b6f9-c6421c57f08d",
   "metadata": {},
   "outputs": [],
   "source": []
  },
  {
   "cell_type": "raw",
   "id": "eb3b0670-e834-4dac-9c15-ca4cdce80621",
   "metadata": {},
   "source": [
    "8. Use a lambda function in Python to sort a list of tuples based on the second element of each tuple."
   ]
  },
  {
   "cell_type": "code",
   "execution_count": 14,
   "id": "7f2feba4-f7dc-4ef1-8f2d-29af55f87fe5",
   "metadata": {},
   "outputs": [
    {
     "name": "stdout",
     "output_type": "stream",
     "text": [
      "[(4, 1), (2, 2), (1, 3), (3, 4)]\n"
     ]
    }
   ],
   "source": [
    "tuples_list = [(1, 3), (2, 2), (4, 1), (3, 4)]\n",
    "tuples_list.sort(key=lambda x: x[1])\n",
    "print(tuples_list)"
   ]
  },
  {
   "cell_type": "raw",
   "id": "56b96e6c-8e0e-4556-bb80-dfeabc50352c",
   "metadata": {},
   "source": [
    "9. Write a Python program that uses `map()` to convert a list of temperatures from Celsius to Fahrenheit."
   ]
  },
  {
   "cell_type": "code",
   "execution_count": 6,
   "id": "55ab4455-19cc-48f9-8517-62a524ae960e",
   "metadata": {},
   "outputs": [
    {
     "name": "stdout",
     "output_type": "stream",
     "text": [
      "[68.0, 69.80000000000001, 71.6, 73.4, 75.2, 77.0]\n",
      "None\n"
     ]
    }
   ],
   "source": [
    "def celToFahr(l):\n",
    "    far=map(lambda x:x*(9/5)+32,l)\n",
    "    print(list(far))\n",
    "    \n",
    "l=[20,21,22,23,24,25]\n",
    "print(celToFahr(l))"
   ]
  },
  {
   "cell_type": "raw",
   "id": "0c4028be-e1c4-4de0-8e7a-8a1465b7f52b",
   "metadata": {},
   "source": [
    "10. Create a Python program that uses `filter()` to remove all the vowels from a given string."
   ]
  },
  {
   "cell_type": "code",
   "execution_count": 13,
   "id": "436c6370-b2fa-499e-894c-1eb6da916db4",
   "metadata": {},
   "outputs": [
    {
     "name": "stdout",
     "output_type": "stream",
     "text": [
      "HLL\n"
     ]
    }
   ],
   "source": [
    "def vowel(x):\n",
    "    vo=\"aeiouAEIOU\"\n",
    "    return(x not in vo)\n",
    "\n",
    "filtered_vowel = \"\".join(list(filter(vowel, \"HELLO\")))\n",
    "print(filtered_vowel)"
   ]
  },
  {
   "cell_type": "raw",
   "id": "d82cff88-5952-4d68-bbf2-351b17569fbc",
   "metadata": {},
   "source": [
    "11. Write a Python program, which returns a list with 2-tuples. Each tuple consists of the order number and the\n",
    "product of the price per item and the quantity. The product should be increased by 10,- € if the value of the\n",
    "order is smaller than 100,00 €."
   ]
  },
  {
   "cell_type": "code",
   "execution_count": 23,
   "id": "763b8720-5b00-4595-b64f-249b3ef99224",
   "metadata": {},
   "outputs": [
    {
     "name": "stdout",
     "output_type": "stream",
     "text": [
      "[(123, 70.5), (567, 111.0), (867, 176.5), (912, 132.0), (111, 131.0)]\n"
     ]
    }
   ],
   "source": [
    "# [order_no , product_name , quantity , price_per_item]\n",
    "# l=[[123, \"APPLE\", 1, 60.5], \n",
    "#    [567, \"APPLE\", 2, 50.5], \n",
    "#    [867, \"APPLE\", 3, 55.5], \n",
    "#    [912, \"APPLE\", 4, 30.5], \n",
    "#    [111, \"APPLE\", 2, 60.5]]\n",
    "# t_list=[]\n",
    "# for x in l:\n",
    "#     pro=x[2]*x[3]\n",
    "#     if(pro<10000):\n",
    "#         pro+=10\n",
    "#     t_list.append((x[0],pro))\n",
    "# print(t_list)\n",
    "\n",
    "\n",
    "orders=[[123, \"APPLE\", 1, 60.5],\n",
    "        [567, \"APPLE\", 2, 50.5],\n",
    "        [867, \"APPLE\", 3, 55.5],\n",
    "        [912, \"APPLE\", 4, 30.5],\n",
    "        [111, \"APPLE\", 2, 60.5]]\n",
    "\n",
    "process_order = lambda order: (order[0], order[2]*order[3] + 10 if order[2] * order[3] < 10000 else order[2] * order[3])\n",
    "\n",
    "\n",
    "result = list(map(process_order, orders))\n",
    "print(result)"
   ]
  },
  {
   "cell_type": "code",
   "execution_count": null,
   "id": "a8a514fc-0c65-4498-bb18-8c1fb19641a4",
   "metadata": {},
   "outputs": [],
   "source": [
    "(123, 70.5), (567, 111.0), (867, 176.5), (912, 132.0), (111, 131.0)"
   ]
  }
 ],
 "metadata": {
  "kernelspec": {
   "display_name": "Python 3 (ipykernel)",
   "language": "python",
   "name": "python3"
  },
  "language_info": {
   "codemirror_mode": {
    "name": "ipython",
    "version": 3
   },
   "file_extension": ".py",
   "mimetype": "text/x-python",
   "name": "python",
   "nbconvert_exporter": "python",
   "pygments_lexer": "ipython3",
   "version": "3.10.8"
  }
 },
 "nbformat": 4,
 "nbformat_minor": 5
}
